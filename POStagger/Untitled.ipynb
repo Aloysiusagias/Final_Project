{
 "cells": [
  {
   "cell_type": "code",
   "execution_count": 79,
   "metadata": {},
   "outputs": [],
   "source": [
    "#import library yang diperlukan\n",
    "from operator import index\n",
    "import pandas as pd\n",
    "import csv\n",
    "import numpy as np\n",
    "# from predatatestcaca import predict, testing, mydb\n",
    "from sklearn.model_selection import train_test_split\n",
    "from sklearn.svm import SVC\n",
    "from sklearn.metrics import plot_confusion_matrix\n",
    "from sklearn.metrics import precision_recall_fscore_support\n",
    "from sklearn.metrics import classification_report\n",
    "from sklearn.metrics import confusion_matrix"
   ]
  },
  {
   "cell_type": "code",
   "execution_count": 3,
   "metadata": {},
   "outputs": [],
   "source": [
    "df = pd.read_csv('DataSiapPOS.csv', index_col=0)\n",
    "class_labels = pd.read_csv('readytfidf3.csv')\n",
    "class_labels = class_labels['Status']\n",
    "df_new = pd.concat([df, class_labels], axis=1)\n",
    "df_new = df_new.sample(frac = 1)\n",
    "# print(df_new['Status'])\n",
    "X = df_new.drop(['Status'], axis=1)\n",
    "y = df_new['Status']"
   ]
  },
  {
   "cell_type": "code",
   "execution_count": 74,
   "metadata": {},
   "outputs": [],
   "source": [
    "X_train, X_test, y_train, y_test = train_test_split(X, y, test_size=0.30, random_state=0)"
   ]
  },
  {
   "cell_type": "code",
   "execution_count": 75,
   "metadata": {},
   "outputs": [
    {
     "name": "stdout",
     "output_type": "stream",
     "text": [
      "Akurasi setelah pakai POS :  0.841991341991342\n"
     ]
    }
   ],
   "source": [
    "svm = SVC(kernel='rbf', random_state=1)\n",
    "svm.fit(X_train, y_train)\n",
    "print('Akurasi setelah pakai POS : ',svm.score(X_test, y_test))\n",
    "hasil = svm.predict(X_test)"
   ]
  },
  {
   "cell_type": "code",
   "execution_count": 87,
   "metadata": {},
   "outputs": [
    {
     "data": {
      "text/plain": [
       "<sklearn.metrics._plot.confusion_matrix.ConfusionMatrixDisplay at 0x1fbd6d68040>"
      ]
     },
     "execution_count": 87,
     "metadata": {},
     "output_type": "execute_result"
    },
    {
     "data": {
      "image/png": "[encoded data removed]",
      "text/plain": [
       "<Figure size 432x288 with 2 Axes>"
      ]
     },
     "metadata": {
      "needs_background": "light"
     },
     "output_type": "display_data"
    }
   ],
   "source": [
    "plot_confusion_matrix(svm, X_test, y_test)"
   ]
  },
  {
   "cell_type": "code",
   "execution_count": 86,
   "metadata": {},
   "outputs": [
    {
     "name": "stdout",
     "output_type": "stream",
     "text": [
      "[[ 73   1  48]\n",
      " [  0  15  11]\n",
      " [ 11   2 301]]\n",
      "              precision    recall  f1-score   support\n",
      "\n",
      "     Negatif       0.87      0.60      0.71       122\n",
      "      Netral       0.83      0.58      0.68        26\n",
      "     Positif       0.84      0.96      0.89       314\n",
      "\n",
      "    accuracy                           0.84       462\n",
      "   macro avg       0.85      0.71      0.76       462\n",
      "weighted avg       0.84      0.84      0.83       462\n",
      "\n"
     ]
    }
   ],
   "source": [
    "print(confusion_matrix(y_test, hasil))\n",
    "print(classification_report(y_test, hasil))"
   ]
  },
  {
   "cell_type": "code",
   "execution_count": null,
   "metadata": {},
   "outputs": [],
   "source": []
  },
  {
   "cell_type": "code",
   "execution_count": null,
   "metadata": {},
   "outputs": [],
   "source": []
  }
 ],
 "metadata": {
  "kernelspec": {
   "display_name": "Python 3",
   "language": "python",
   "name": "python3"
  },
  "language_info": {
   "codemirror_mode": {
    "name": "ipython",
    "version": 3
   },
   "file_extension": ".py",
   "mimetype": "text/x-python",
   "name": "python",
   "nbconvert_exporter": "python",
   "pygments_lexer": "ipython3",
   "version": "3.8.3"
  }
 },
 "nbformat": 4,
 "nbformat_minor": 4
}
